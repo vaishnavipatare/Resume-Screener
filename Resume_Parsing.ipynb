{
 "cells": [
  {
   "cell_type": "markdown",
   "id": "a7192e3c-4a46-401c-85ce-66e57608420e",
   "metadata": {},
   "source": [
    "The first step in resume parsing is to extract the text from resumes in various formats, such as PDF or Word documents. We’ll be using the pdfminer.six library to extract text from PDF resumes. Here’s a function that takes a PDF file path as input and returns the extracted text:"
   ]
  },
  {
   "cell_type": "code",
   "execution_count": 1,
   "id": "798e832e-8d2d-421b-8664-a0b9876451b5",
   "metadata": {},
   "outputs": [
    {
     "name": "stdout",
     "output_type": "stream",
     "text": [
      "Collecting pdfminer.six\n",
      "  Downloading pdfminer_six-20250506-py3-none-any.whl.metadata (4.2 kB)\n",
      "Requirement already satisfied: charset-normalizer>=2.0.0 in c:\\users\\user\\appdata\\local\\programs\\python\\python312\\lib\\site-packages (from pdfminer.six) (3.4.1)\n",
      "Collecting cryptography>=36.0.0 (from pdfminer.six)\n",
      "  Downloading cryptography-46.0.2-cp311-abi3-win_amd64.whl.metadata (5.7 kB)\n",
      "Collecting cffi>=2.0.0 (from cryptography>=36.0.0->pdfminer.six)\n",
      "  Downloading cffi-2.0.0-cp312-cp312-win_amd64.whl.metadata (2.6 kB)\n",
      "Requirement already satisfied: pycparser in c:\\users\\user\\appdata\\local\\programs\\python\\python312\\lib\\site-packages (from cffi>=2.0.0->cryptography>=36.0.0->pdfminer.six) (2.22)\n",
      "Downloading pdfminer_six-20250506-py3-none-any.whl (5.6 MB)\n",
      "   ---------------------------------------- 0.0/5.6 MB ? eta -:--:--\n",
      "   - -------------------------------------- 0.3/5.6 MB ? eta -:--:--\n",
      "   --- ------------------------------------ 0.5/5.6 MB 1.7 MB/s eta 0:00:04\n",
      "   ------- -------------------------------- 1.0/5.6 MB 1.9 MB/s eta 0:00:03\n",
      "   --------- ------------------------------ 1.3/5.6 MB 2.1 MB/s eta 0:00:03\n",
      "   ----------- ---------------------------- 1.6/5.6 MB 1.9 MB/s eta 0:00:03\n",
      "   ------------- -------------------------- 1.8/5.6 MB 1.5 MB/s eta 0:00:03\n",
      "   ------------------ --------------------- 2.6/5.6 MB 1.9 MB/s eta 0:00:02\n",
      "   ---------------------- ----------------- 3.1/5.6 MB 2.2 MB/s eta 0:00:02\n",
      "   --------------------------- ------------ 3.9/5.6 MB 2.2 MB/s eta 0:00:01\n",
      "   ----------------------------- ---------- 4.2/5.6 MB 2.2 MB/s eta 0:00:01\n",
      "   ------------------------------- -------- 4.5/5.6 MB 2.1 MB/s eta 0:00:01\n",
      "   --------------------------------- ------ 4.7/5.6 MB 2.0 MB/s eta 0:00:01\n",
      "   ----------------------------------- ---- 5.0/5.6 MB 1.9 MB/s eta 0:00:01\n",
      "   ------------------------------------- -- 5.2/5.6 MB 2.0 MB/s eta 0:00:01\n",
      "   ---------------------------------------- 5.6/5.6 MB 1.9 MB/s  0:00:03\n",
      "Downloading cryptography-46.0.2-cp311-abi3-win_amd64.whl (3.5 MB)\n",
      "   ---------------------------------------- 0.0/3.5 MB ? eta -:--:--\n",
      "   ---------------------------------------- 0.0/3.5 MB ? eta -:--:--\n",
      "   -- ------------------------------------- 0.3/3.5 MB ? eta -:--:--\n",
      "   ----- ---------------------------------- 0.5/3.5 MB 699.0 kB/s eta 0:00:05\n",
      "   -------- ------------------------------- 0.8/3.5 MB 1.0 MB/s eta 0:00:03\n",
      "   -------------------- ------------------- 1.8/3.5 MB 1.9 MB/s eta 0:00:01\n",
      "   -------------------------- ------------- 2.4/3.5 MB 2.2 MB/s eta 0:00:01\n",
      "   -------------------------------- ------- 2.9/3.5 MB 2.2 MB/s eta 0:00:01\n",
      "   ---------------------------------------- 3.5/3.5 MB 2.4 MB/s  0:00:01\n",
      "Downloading cffi-2.0.0-cp312-cp312-win_amd64.whl (183 kB)\n",
      "Installing collected packages: cffi, cryptography, pdfminer.six\n",
      "\n",
      "  Attempting uninstall: cffi\n",
      "\n",
      "    Found existing installation: cffi 1.17.1\n",
      "\n",
      "    Uninstalling cffi-1.17.1:\n",
      "\n",
      "   ---------------------------------------- 0/3 [cffi]\n",
      "   ---------------------------------------- 0/3 [cffi]\n",
      "   ---------------------------------------- 0/3 [cffi]\n",
      "   ---------------------------------------- 0/3 [cffi]\n",
      "   ---------------------------------------- 0/3 [cffi]\n",
      "   ---------------------------------------- 0/3 [cffi]\n",
      "   ---------------------------------------- 0/3 [cffi]\n",
      "   ---------------------------------------- 0/3 [cffi]\n",
      "   ---------------------------------------- 0/3 [cffi]\n",
      "   ---------------------------------------- 0/3 [cffi]\n",
      "   ---------------------------------------- 0/3 [cffi]\n",
      "   ---------------------------------------- 0/3 [cffi]\n",
      "   ---------------------------------------- 0/3 [cffi]\n",
      "   ---------------------------------------- 0/3 [cffi]\n",
      "   ---------------------------------------- 0/3 [cffi]\n",
      "   ---------------------------------------- 0/3 [cffi]\n",
      "   ---------------------------------------- 0/3 [cffi]\n",
      "   ---------------------------------------- 0/3 [cffi]\n",
      "   ---------------------------------------- 0/3 [cffi]\n",
      "      Successfully uninstalled cffi-1.17.1\n",
      "   ---------------------------------------- 0/3 [cffi]\n",
      "   ---------------------------------------- 0/3 [cffi]\n",
      "   ---------------------------------------- 0/3 [cffi]\n",
      "   ---------------------------------------- 0/3 [cffi]\n",
      "   ------------- -------------------------- 1/3 [cryptography]\n",
      "   ------------- -------------------------- 1/3 [cryptography]\n",
      "   ------------- -------------------------- 1/3 [cryptography]\n",
      "   ------------- -------------------------- 1/3 [cryptography]\n",
      "   ------------- -------------------------- 1/3 [cryptography]\n",
      "   ------------- -------------------------- 1/3 [cryptography]\n",
      "   ------------- -------------------------- 1/3 [cryptography]\n",
      "   ------------- -------------------------- 1/3 [cryptography]\n",
      "   ------------- -------------------------- 1/3 [cryptography]\n",
      "   ------------- -------------------------- 1/3 [cryptography]\n",
      "   ------------- -------------------------- 1/3 [cryptography]\n",
      "   -------------------------- ------------- 2/3 [pdfminer.six]\n",
      "   -------------------------- ------------- 2/3 [pdfminer.six]\n",
      "   -------------------------- ------------- 2/3 [pdfminer.six]\n",
      "   -------------------------- ------------- 2/3 [pdfminer.six]\n",
      "   -------------------------- ------------- 2/3 [pdfminer.six]\n",
      "   -------------------------- ------------- 2/3 [pdfminer.six]\n",
      "   -------------------------- ------------- 2/3 [pdfminer.six]\n",
      "   -------------------------- ------------- 2/3 [pdfminer.six]\n",
      "   ---------------------------------------- 3/3 [pdfminer.six]\n",
      "\n",
      "Successfully installed cffi-2.0.0 cryptography-46.0.2 pdfminer.six-20250506\n",
      "Note: you may need to restart the kernel to use updated packages.\n"
     ]
    }
   ],
   "source": [
    "pip install pdfminer.six"
   ]
  },
  {
   "cell_type": "code",
   "execution_count": 3,
   "id": "c4f3592a-b902-4ad1-a7ac-dc02bd5e4ab8",
   "metadata": {},
   "outputs": [
    {
     "data": {
      "text/plain": [
       "'Vaishnavi  Pradeep  Patare \\nvaishnavipatare5507@gmail.com \\n GitHub |  Linkedln I  LeetCode \\n\\nAbout \\n\\nAI & Machine Learning intern specializing in medical image analysis with hands-on experience in DICOM imaging, X-ray \\nreconstruction and real-time fracture detection. Strong foundation in deep learning, computer vision, and data preprocessing \\nwith  a  proven  ability  to  build  and  evaluate  models  for  clinical  relevance.  Actively  contributing  to  innovative  healthcare \\nsolutions using modern ML/DL techniques. \\n\\nExperience \\n\\nSystem  Design/Architecture AI-ML Intern I Philips \\n\\nAug  2024  –  Present \\n\\n1)  Hand Gesture-Based Medical System Control – \\n\\nBuilt a custom dataset for gesture classification in clinical environments. Conducted comparative evaluation using models \\nlike YOLO, MobileNet, InceptionV3, and VGG16/19. YOLO model showed highest accuracy for real-time control. \\nUpcoming activities: Integration with CAN-based medical hardware. \\nSkills- Image Classification, Object Detection, YOLO, Model Evaluation, Dataset Design, CAN Protocol (in-progress) \\n\\n2)  Revolutionizing Fracture Diagnostics: AI-Powered Analysis of DICOM Images – \\n\\nDeveloped proof-of-concept using Python, OpenCV, and YOLO to classify and detect bone fractures. \\nImplementing real-time processing pipeline for hospital use. \\nSkills-DICOM Image Processing, Image Classification, Object Detection (YOLO), Real-time Image Analysis, Python \\n(NumPy, OpenCV, Scikit-learn). \\n\\n3)  Streamlined Log File Analysis for X-ray Systems - \\n\\nMapped user actions during X-ray machine operation to hexadecimal codes using VBA for easier traceability. Developed \\na prototype to encode, securely store, and later decode logs for structured display and analysis. Improved readability and \\ninterpretability of logs for error diagnostics. \\nUpcoming activities: Automation of real-time log monitoring and integration with fault prediction models \\n\\n       Skills – Log File Parsing, VBA, Encoding/Decoding, Secure Data Storage, Error Analysis, X-ray System Diagnostics \\n\\nPersonal Project \\n\\nResume  Screener I Data preprocessing, ML, NLP (Jan 24-Feb 24) \\n\\n                                              GitHub \\n\\n              Built a machine learning pipeline to automate resume screening for a recruitment firm. \\n              Resume Parsing:  Extracts  key information  like name, email, skills, and education  using  Natural Language \\n              Processing (NLP) techniques. \\n              Resume Category: Categorizes  resumes  based on job descriptions, improving  efficiency  in candidate  filtering. \\n             Job Recommendation: Recommend suitable  jobs for candidates  based  on their  skill set, enhancing  the recruitment process.\\n\\n       Skills \\n\\nProgramming  Languages:  Java,  Python, SQL \\n\\nDatabase and Tools: Database Management System (DBMS), Version control (Git/GitHub) \\n\\nData  Science and Machine Learning:  Data Engineering, Data Pre-processing, Data Scrapping and Mining, Data Analysis and \\nVisualization, Machine Learning, Deep Learning, Natural Language Processing \\nCore Computer Science Subjects:  Object  Oriented Programming,  Operating  System, Database Management  System, \\nComputer  Networks and Security, Data Structures and Algorithms \\n\\nEducation \\n\\nVishwakarma  Institute  of Information  Technology,  Pune \\nB.Tech. in Electronics and Telecommunication                                                                                               CGPA- 8.8 \\n\\n \\n \\n \\n \\n \\n \\n \\n \\n       \\n \\n \\n \\n \\n                                            \\n \\n\\x0c'"
      ]
     },
     "execution_count": 3,
     "metadata": {},
     "output_type": "execute_result"
    }
   ],
   "source": [
    "\n",
    "import re\n",
    "from pdfminer.high_level import extract_text\n",
    "def extract_text_from_pdf(pdf_path):\n",
    "    return extract_text(pdf_path)\n",
    "resume_path = \"resume.pdf\"\n",
    "text = extract_text_from_pdf(resume_path)\n",
    "text"
   ]
  },
  {
   "cell_type": "markdown",
   "id": "11e90ed3-5bfb-42dc-a9c3-4285a5d721c7",
   "metadata": {},
   "source": [
    "Extracting contact information"
   ]
  },
  {
   "cell_type": "code",
   "execution_count": 5,
   "id": "165f2858-05c2-4c12-a267-49d286a9c0b4",
   "metadata": {},
   "outputs": [],
   "source": [
    "import re\n",
    "\n",
    "def extract_contact_number_from_resume(text):\n",
    "    contact_number = None\n",
    "\n",
    "    # Use regex pattern to find a potential contact number\n",
    "    pattern = r\"\\b(?:\\+?\\d{1,3}[-.\\s]?)?\\(?\\d{3}\\)?[-.\\s]?\\d{3}[-.\\s]?\\d{4}\\b\"\n",
    "    match = re.search(pattern, text)\n",
    "    if match:\n",
    "        contact_number = match.group()\n",
    "    return contact_number\n",
    "\n",
    "phone = extract_contact_number_from_resume(text)\n",
    "phone"
   ]
  },
  {
   "cell_type": "markdown",
   "id": "8bf50c79-ed08-474f-b2b3-1ebd1664472c",
   "metadata": {},
   "source": [
    "Extracting Email Address\n"
   ]
  },
  {
   "cell_type": "code",
   "execution_count": 6,
   "id": "06297bc8-faa4-4baf-9d7e-9b353d8c52fb",
   "metadata": {},
   "outputs": [
    {
     "data": {
      "text/plain": [
       "'vaishnavipatare5507@gmail.com'"
      ]
     },
     "execution_count": 6,
     "metadata": {},
     "output_type": "execute_result"
    }
   ],
   "source": [
    "import re\n",
    "\n",
    "def extract_email_from_resume(text):\n",
    "    email = None\n",
    "\n",
    "    # Use regex pattern to find a potential email address\n",
    "    pattern = r\"\\b[A-Za-z0-9._%+-]+@[A-Za-z0-9.-]+\\.[A-Za-z]{2,}\\b\"\n",
    "    match = re.search(pattern, text)\n",
    "    if match:\n",
    "        email = match.group()\n",
    "    return email\n",
    "\n",
    "email = extract_email_from_resume(text)\n",
    "email"
   ]
  },
  {
   "cell_type": "markdown",
   "id": "fef8ed13-68cf-4456-875f-b8c9ba560c9b",
   "metadata": {},
   "source": [
    "Extracting Skills"
   ]
  },
  {
   "cell_type": "code",
   "execution_count": 7,
   "id": "58468d39-4f5b-4ca2-bdbb-5c4b539d9361",
   "metadata": {},
   "outputs": [
    {
     "name": "stdout",
     "output_type": "stream",
     "text": [
      "Skills: ['Python', 'Data Analysis', 'Machine Learning', 'Deep Learning', 'SQL', 'Java', 'Git', 'Numpy', 'Scikit-learn', 'Natural Language Processing', 'Computer Vision', 'Image Processing', 'Data Engineering', 'Object Detection']\n"
     ]
    }
   ],
   "source": [
    "import re\n",
    "\n",
    "def extract_skills_from_resume(text, skills_list):\n",
    "    skills = []\n",
    "\n",
    "    for skill in skills_list:\n",
    "        pattern = r\"\\b{}\\b\".format(re.escape(skill))\n",
    "        match = re.search(pattern, text, re.IGNORECASE)\n",
    "        if match:\n",
    "            skills.append(skill)\n",
    "\n",
    "    return skills\n",
    "\n",
    "\n",
    "# List of predefined skills\n",
    "skills_list = [\n",
    "    'Python', 'Data Analysis', 'Machine Learning', 'Communication', 'Project Management', 'Deep Learning', 'SQL', 'Tableau',\n",
    "    'Java', 'C++', 'JavaScript', 'HTML', 'CSS', 'React', 'Angular', 'Node.js', 'MongoDB', 'Express.js', 'Git',\n",
    "    'Research', 'Statistics', 'Quantitative Analysis', 'Qualitative Analysis', 'SPSS', 'R', 'Data Visualization', 'Matplotlib',\n",
    "    'Seaborn', 'Plotly', 'Pandas', 'Numpy', 'Scikit-learn', 'TensorFlow', 'Keras', 'PyTorch', 'NLTK', 'Text Mining',\n",
    "    'Natural Language Processing', 'Computer Vision', 'Image Processing', 'OCR', 'Speech Recognition', 'Recommendation Systems',\n",
    "    'Collaborative Filtering', 'Content-Based Filtering', 'Reinforcement Learning', 'Neural Networks', 'Convolutional Neural Networks',\n",
    "    'Recurrent Neural Networks', 'Generative Adversarial Networks', 'XGBoost', 'Random Forest', 'Decision Trees', 'Support Vector Machines',\n",
    "    'Linear Regression', 'Logistic Regression', 'K-Means Clustering', 'Hierarchical Clustering', 'DBSCAN', 'Association Rule Learning',\n",
    "    'Apache Hadoop', 'Apache Spark', 'MapReduce', 'Hive', 'HBase', 'Apache Kafka', 'Data Warehousing', 'ETL', 'Big Data Analytics',\n",
    "    'Cloud Computing', 'Amazon Web Services (AWS)', 'Microsoft Azure', 'Google Cloud Platform (GCP)', 'Docker', 'Kubernetes', 'Linux',\n",
    "    'Shell Scripting', 'Cybersecurity', 'Network Security', 'Penetration Testing', 'Firewalls', 'Encryption', 'Malware Analysis',\n",
    "    'Digital Forensics', 'CI/CD', 'DevOps', 'Agile Methodology', 'Scrum', 'Kanban', 'Continuous Integration', 'Continuous Deployment',\n",
    "    'Software Development', 'Web Development', 'Mobile Development', 'Backend Development', 'Frontend Development', 'Full-Stack Development',\n",
    "    'UI/UX Design', 'Responsive Design', 'Wireframing', 'Prototyping', 'User Testing', 'Adobe Creative Suite', 'Photoshop', 'Illustrator',\n",
    "    'InDesign', 'Figma', 'Sketch', 'Zeplin', 'InVision', 'Product Management', 'Market Research', 'Customer Development', 'Lean Startup',\n",
    "    'Business Development', 'Sales', 'Marketing', 'Content Marketing', 'Social Media Marketing', 'Email Marketing', 'SEO', 'SEM', 'PPC',\n",
    "    'Google Analytics', 'Facebook Ads', 'LinkedIn Ads', 'Lead Generation', 'Customer Relationship Management (CRM)', 'Salesforce',\n",
    "    'HubSpot', 'Zendesk', 'Intercom', 'Customer Support', 'Technical Support', 'Troubleshooting', 'Ticketing Systems', 'ServiceNow',\n",
    "    'ITIL', 'Quality Assurance', 'Manual Testing', 'Automated Testing', 'Selenium', 'JUnit', 'Load Testing', 'Performance Testing',\n",
    "    'Regression Testing', 'Black Box Testing', 'White Box Testing', 'API Testing', 'Mobile Testing', 'Usability Testing', 'Accessibility Testing',\n",
    "    'Cross-Browser Testing', 'Agile Testing', 'User Acceptance Testing', 'Software Documentation', 'Technical Writing', 'Copywriting',\n",
    "    'Editing', 'Proofreading', 'Content Management Systems (CMS)', 'WordPress', 'Joomla', 'Drupal', 'Magento', 'Shopify', 'E-commerce',\n",
    "    'Payment Gateways', 'Inventory Management', 'Supply Chain Management', 'Logistics', 'Procurement', 'ERP Systems', 'SAP', 'Oracle',\n",
    "    'Microsoft Dynamics', 'Tableau', 'Power BI', 'QlikView', 'Looker', 'Data Warehousing', 'ETL', 'Data Engineering', 'Data Governance',\n",
    "    'Data Quality', 'Master Data Management', 'Predictive Analytics', 'Prescriptive Analytics', 'Descriptive Analytics', 'Business Intelligence',\n",
    "    'Dashboarding', 'Reporting', 'Data Mining', 'Web Scraping', 'API Integration', 'RESTful APIs', 'GraphQL', 'SOAP', 'Microservices',\n",
    "    'Serverless Architecture', 'Lambda Functions', 'Event-Driven Architecture', 'Message Queues', 'GraphQL', 'Socket.io', 'WebSockets'\n",
    "'Ruby', 'Ruby on Rails', 'PHP', 'Symfony', 'Laravel', 'CakePHP', 'Zend Framework', 'ASP.NET', 'C#', 'VB.NET', 'ASP.NET MVC', 'Entity Framework',\n",
    "    'Spring', 'Hibernate', 'Struts', 'Kotlin', 'Swift', 'Objective-C', 'iOS Development', 'Android Development', 'Flutter', 'React Native', 'Ionic',\n",
    "    'Mobile UI/UX Design', 'Material Design', 'SwiftUI', 'RxJava', 'RxSwift', 'Django', 'Flask', 'FastAPI', 'Falcon', 'Tornado', 'WebSockets',\n",
    "    'GraphQL', 'RESTful Web Services', 'SOAP', 'Microservices Architecture', 'Serverless Computing', 'AWS Lambda', 'Google Cloud Functions',\n",
    "    'Azure Functions', 'Server Administration', 'System Administration', 'Network Administration', 'Database Administration', 'MySQL', 'PostgreSQL',\n",
    "    'SQLite', 'Microsoft SQL Server', 'Oracle Database', 'NoSQL', 'MongoDB', 'Cassandra', 'Redis', 'Elasticsearch', 'Firebase', 'Google Analytics',\n",
    "    'Google Tag Manager', 'Adobe Analytics', 'Marketing Automation', 'Customer Data Platforms', 'Segment', 'Salesforce Marketing Cloud', 'HubSpot CRM',\n",
    "    'Zapier', 'IFTTT', 'Workflow Automation', 'Robotic Process Automation (RPA)', 'UI Automation', 'Natural Language Generation (NLG)',\n",
    "    'Virtual Reality (VR)', 'Augmented Reality (AR)', 'Mixed Reality (MR)', 'Unity', 'Unreal Engine', '3D Modeling', 'Animation', 'Motion Graphics',\n",
    "    'Game Design', 'Game Development', 'Level Design', 'Unity3D', 'Unreal Engine 4', 'Blender', 'Maya', 'Adobe After Effects', 'Adobe Premiere Pro',\n",
    "    'Final Cut Pro', 'Video Editing', 'Audio Editing', 'Sound Design', 'Music Production', 'Digital Marketing', 'Content Strategy', 'Conversion Rate Optimization (CRO)',\n",
    "    'A/B Testing', 'Customer Experience (CX)', 'User Experience (UX)', 'User Interface (UI)', 'Persona Development', 'User Journey Mapping', 'Information Architecture (IA)',\n",
    "    'Wireframing', 'Prototyping', 'Usability Testing', 'Accessibility Compliance', 'Internationalization (I18n)', 'Localization (L10n)', 'Voice User Interface (VUI)',\n",
    "    'Chatbots', 'Natural Language Understanding (NLU)', 'Speech Synthesis', 'Emotion Detection', 'Sentiment Analysis', 'Image Recognition', 'Object Detection',\n",
    "    'Facial Recognition', 'Gesture Recognition', 'Document Recognition', 'Fraud Detection', 'Cyber Threat Intelligence', 'Security Information and Event Management (SIEM)',\n",
    "    'Vulnerability Assessment', 'Incident Response', 'Forensic Analysis', 'Security Operations Center (SOC)', 'Identity and Access Management (IAM)', 'Single Sign-On (SSO)',\n",
    "    'Multi-Factor Authentication (MFA)', 'Blockchain', 'Cryptocurrency', 'Decentralized Finance (DeFi)', 'Smart Contracts', 'Web3', 'Non-Fungible Tokens (NFTs)']\n",
    "\n",
    "extracted_skills = extract_skills_from_resume(text, skills_list)\n",
    "\n",
    "if extracted_skills:\n",
    "    print(\"Skills:\", extracted_skills)\n",
    "else:\n",
    "    print(\"No skills found\")"
   ]
  },
  {
   "cell_type": "markdown",
   "id": "745d7d50-802d-422a-9826-c664d65688e8",
   "metadata": {},
   "source": [
    "Extracting Education"
   ]
  },
  {
   "cell_type": "code",
   "execution_count": 8,
   "id": "1187b6f0-0b92-4ea9-923b-2e80713f7111",
   "metadata": {},
   "outputs": [
    {
     "name": "stdout",
     "output_type": "stream",
     "text": [
      "Education: ['Computer Science', 'Management', 'Architecture', 'education']\n"
     ]
    }
   ],
   "source": [
    "import re\n",
    "\n",
    "def extract_education_from_resume(text):\n",
    "    education = []\n",
    "\n",
    "    # List of education keywords to match against\n",
    "    education_keywords = [\n",
    "        'Computer Science', 'Information Technology', 'Software Engineering', 'Electrical Engineering', 'Mechanical Engineering', 'Civil Engineering',\n",
    "        'Chemical Engineering', 'Biomedical Engineering', 'Aerospace Engineering', 'Nuclear Engineering', 'Industrial Engineering', 'Systems Engineering',\n",
    "        'Environmental Engineering', 'Petroleum Engineering', 'Geological Engineering', 'Marine Engineering', 'Robotics Engineering', 'Biotechnology',\n",
    "        'Biochemistry', 'Microbiology', 'Genetics', 'Molecular Biology', 'Bioinformatics', 'Neuroscience', 'Biophysics', 'Biostatistics', 'Pharmacology',\n",
    "        'Physiology', 'Anatomy', 'Pathology', 'Immunology', 'Epidemiology', 'Public Health', 'Health Administration', 'Nursing', 'Medicine', 'Dentistry',\n",
    "        'Pharmacy', 'Veterinary Medicine', 'Medical Technology', 'Radiography', 'Physical Therapy', 'Occupational Therapy', 'Speech Therapy', 'Nutrition',\n",
    "        'Sports Science', 'Kinesiology', 'Exercise Physiology', 'Sports Medicine', 'Rehabilitation Science', 'Psychology', 'Counseling', 'Social Work',\n",
    "        'Sociology', 'Anthropology', 'Criminal Justice', 'Political Science', 'International Relations', 'Economics', 'Finance', 'Accounting', 'Business Administration',\n",
    "        'Management', 'Marketing', 'Entrepreneurship', 'Hospitality Management', 'Tourism Management', 'Supply Chain Management', 'Logistics Management',\n",
    "        'Operations Management', 'Human Resource Management', 'Organizational Behavior', 'Project Management', 'Quality Management', 'Risk Management',\n",
    "        'Strategic Management', 'Public Administration', 'Urban Planning', 'Architecture', 'Interior Design', 'Landscape Architecture', 'Fine Arts',\n",
    "        'Visual Arts', 'Graphic Design', 'Fashion Design', 'Industrial Design', 'Product Design', 'Animation', 'Film Studies', 'Media Studies',\n",
    "        'Communication Studies', 'Journalism', 'Broadcasting', 'Creative Writing', 'English Literature', 'Linguistics', 'Translation Studies',\n",
    "        'Foreign Languages', 'Modern Languages', 'Classical Studies', 'History', 'Archaeology', 'Philosophy', 'Theology', 'Religious Studies',\n",
    "        'Ethics', 'Education', 'Early Childhood Education', 'Elementary Education', 'Secondary Education', 'Special Education', 'Higher Education',\n",
    "        'Adult Education', 'Distance Education', 'Online Education', 'Instructional Design', 'Curriculum Development'\n",
    "        'Library Science', 'Information Science', 'Computer Engineering', 'Software Development', 'Cybersecurity', 'Information Security',\n",
    "        'Network Engineering', 'Data Science', 'Data Analytics', 'Business Analytics', 'Operations Research', 'Decision Sciences',\n",
    "        'Human-Computer Interaction', 'User Experience Design', 'User Interface Design', 'Digital Marketing', 'Content Strategy',\n",
    "        'Brand Management', 'Public Relations', 'Corporate Communications', 'Media Production', 'Digital Media', 'Web Development',\n",
    "        'Mobile App Development', 'Game Development', 'Virtual Reality', 'Augmented Reality', 'Blockchain Technology', 'Cryptocurrency',\n",
    "        'Digital Forensics', 'Forensic Science', 'Criminalistics', 'Crime Scene Investigation', 'Emergency Management', 'Fire Science',\n",
    "        'Environmental Science', 'Climate Science', 'Meteorology', 'Geography', 'Geomatics', 'Remote Sensing', 'Geoinformatics',\n",
    "        'Cartography', 'GIS (Geographic Information Systems)', 'Environmental Management', 'Sustainability Studies', 'Renewable Energy',\n",
    "        'Green Technology', 'Ecology', 'Conservation Biology', 'Wildlife Biology', 'Zoology']\n",
    "\n",
    "    for keyword in education_keywords:\n",
    "        pattern = r\"(?i)\\b{}\\b\".format(re.escape(keyword))\n",
    "        match = re.search(pattern, text)\n",
    "        if match:\n",
    "            education.append(match.group())\n",
    "\n",
    "    return education\n",
    "\n",
    "extracted_education = extract_education_from_resume(text)\n",
    "if extracted_education:\n",
    "    print(\"Education:\", extracted_education)\n",
    "else:\n",
    "    print(\"No education information found\")"
   ]
  },
  {
   "cell_type": "markdown",
   "id": "cf69eb78-a8d8-4866-a8db-ec0bde02fd37",
   "metadata": {},
   "source": [
    "Extracting Name using spaCy"
   ]
  },
  {
   "cell_type": "code",
   "execution_count": 9,
   "id": "1a0b120a-b177-4d28-8813-4c1b63f60638",
   "metadata": {},
   "outputs": [
    {
     "name": "stdout",
     "output_type": "stream",
     "text": [
      "Name: Machine Learning\n"
     ]
    }
   ],
   "source": [
    "def extract_name_from_resume(text):\n",
    "    name = None\n",
    "\n",
    "    # Use regex pattern to find a potential name\n",
    "    pattern = r\"(\\b[A-Z][a-z]+\\b)\\s(\\b[A-Z][a-z]+\\b)\"\n",
    "    match = re.search(pattern, text)\n",
    "    if match:\n",
    "        name = match.group()\n",
    "    return name\n",
    "\n",
    "name = extract_name_from_resume(text)\n",
    "\n",
    "if name:\n",
    "    print(\"Name:\", name)\n",
    "else:\n",
    "    print(\"Name not found\")"
   ]
  },
  {
   "cell_type": "code",
   "execution_count": null,
   "id": "5dd53135-b1a0-484f-a40e-1ccce07d1475",
   "metadata": {},
   "outputs": [],
   "source": []
  },
  {
   "cell_type": "code",
   "execution_count": null,
   "id": "26688326",
   "metadata": {},
   "outputs": [],
   "source": []
  }
 ],
 "metadata": {
  "kernelspec": {
   "display_name": "Python 3",
   "language": "python",
   "name": "python3"
  },
  "language_info": {
   "codemirror_mode": {
    "name": "ipython",
    "version": 3
   },
   "file_extension": ".py",
   "mimetype": "text/x-python",
   "name": "python",
   "nbconvert_exporter": "python",
   "pygments_lexer": "ipython3",
   "version": "3.12.7"
  }
 },
 "nbformat": 4,
 "nbformat_minor": 5
}
