{
 "cells": [
  {
   "cell_type": "code",
   "execution_count": 1,
   "id": "4d67d850-75c6-488a-b35f-08fef194bd20",
   "metadata": {},
   "outputs": [],
   "source": [
    "import pandas as pd\n",
    "import numpy as np"
   ]
  },
  {
   "cell_type": "code",
   "execution_count": 2,
   "id": "78802560-0846-4b24-9964-b20a632befbc",
   "metadata": {},
   "outputs": [],
   "source": [
    "df= pd.read_csv('jobs_dataset_with_features.csv')"
   ]
  },
  {
   "cell_type": "code",
   "execution_count": 3,
   "id": "c6c6ec71-88c1-4f83-8b0e-7e63a64dbf3a",
   "metadata": {},
   "outputs": [
    {
     "data": {
      "text/html": [
       "<div>\n",
       "<style scoped>\n",
       "    .dataframe tbody tr th:only-of-type {\n",
       "        vertical-align: middle;\n",
       "    }\n",
       "\n",
       "    .dataframe tbody tr th {\n",
       "        vertical-align: top;\n",
       "    }\n",
       "\n",
       "    .dataframe thead th {\n",
       "        text-align: right;\n",
       "    }\n",
       "</style>\n",
       "<table border=\"1\" class=\"dataframe\">\n",
       "  <thead>\n",
       "    <tr style=\"text-align: right;\">\n",
       "      <th></th>\n",
       "      <th>Role</th>\n",
       "      <th>Features</th>\n",
       "    </tr>\n",
       "  </thead>\n",
       "  <tbody>\n",
       "    <tr>\n",
       "      <th>0</th>\n",
       "      <td>Social Media Manager</td>\n",
       "      <td>5 to 15 Years Digital Marketing Specialist M.T...</td>\n",
       "    </tr>\n",
       "    <tr>\n",
       "      <th>1</th>\n",
       "      <td>Frontend Web Developer</td>\n",
       "      <td>2 to 12 Years Web Developer BCA HTML, CSS, Jav...</td>\n",
       "    </tr>\n",
       "    <tr>\n",
       "      <th>2</th>\n",
       "      <td>Quality Control Manager</td>\n",
       "      <td>0 to 12 Years Operations Manager PhD Quality c...</td>\n",
       "    </tr>\n",
       "    <tr>\n",
       "      <th>3</th>\n",
       "      <td>Wireless Network Engineer</td>\n",
       "      <td>4 to 11 Years Network Engineer PhD Wireless ne...</td>\n",
       "    </tr>\n",
       "    <tr>\n",
       "      <th>4</th>\n",
       "      <td>Conference Manager</td>\n",
       "      <td>1 to 12 Years Event Manager MBA Event planning...</td>\n",
       "    </tr>\n",
       "  </tbody>\n",
       "</table>\n",
       "</div>"
      ],
      "text/plain": [
       "                        Role  \\\n",
       "0       Social Media Manager   \n",
       "1     Frontend Web Developer   \n",
       "2    Quality Control Manager   \n",
       "3  Wireless Network Engineer   \n",
       "4         Conference Manager   \n",
       "\n",
       "                                            Features  \n",
       "0  5 to 15 Years Digital Marketing Specialist M.T...  \n",
       "1  2 to 12 Years Web Developer BCA HTML, CSS, Jav...  \n",
       "2  0 to 12 Years Operations Manager PhD Quality c...  \n",
       "3  4 to 11 Years Network Engineer PhD Wireless ne...  \n",
       "4  1 to 12 Years Event Manager MBA Event planning...  "
      ]
     },
     "execution_count": 3,
     "metadata": {},
     "output_type": "execute_result"
    }
   ],
   "source": [
    "df.head()"
   ]
  },
  {
   "cell_type": "code",
   "execution_count": 4,
   "id": "ef235e0d-e1e7-45da-88ff-bee3236a29d7",
   "metadata": {},
   "outputs": [
    {
     "data": {
      "text/plain": [
       "Role\n",
       "Interaction Designer            20580\n",
       "Network Administrator           17470\n",
       "User Interface Designer         14036\n",
       "Social Media Manager            13945\n",
       "User Experience Designer        13935\n",
       "                                ...  \n",
       "Inventory Control Specialist     3342\n",
       "Budget Analyst                   3335\n",
       "Clinical Nurse Manager           3324\n",
       "Social Science Researcher        3321\n",
       "Paid Advertising Specialist      3306\n",
       "Name: count, Length: 376, dtype: int64"
      ]
     },
     "execution_count": 4,
     "metadata": {},
     "output_type": "execute_result"
    }
   ],
   "source": [
    "df['Role'].value_counts()"
   ]
  },
  {
   "cell_type": "code",
   "execution_count": 5,
   "id": "6782109a-f559-4559-aa3c-9e966f3362d7",
   "metadata": {},
   "outputs": [
    {
     "data": {
      "text/plain": [
       "376"
      ]
     },
     "execution_count": 5,
     "metadata": {},
     "output_type": "execute_result"
    }
   ],
   "source": [
    "len(df['Role'].value_counts())"
   ]
  },
  {
   "cell_type": "code",
   "execution_count": 6,
   "id": "8c3c4a32-7c4d-43c4-86e2-fc42f9b27e4b",
   "metadata": {},
   "outputs": [],
   "source": [
    "#drop some less occured as already we have alot of classes , so we set a threshold of 6500"
   ]
  },
  {
   "cell_type": "code",
   "execution_count": 7,
   "id": "9e15da42-86db-4fb4-b241-f51d118d3244",
   "metadata": {},
   "outputs": [
    {
     "data": {
      "text/plain": [
       "Role\n",
       "Interaction Designer          20580\n",
       "Network Administrator         17470\n",
       "User Interface Designer       14036\n",
       "Social Media Manager          13945\n",
       "User Experience Designer      13935\n",
       "                              ...  \n",
       "Benefits Coordinator           6839\n",
       "Research Analyst               6830\n",
       "Administrative Coordinator     6803\n",
       "IT Support Specialist          6799\n",
       "UI/UX Designer                 6743\n",
       "Name: count, Length: 61, dtype: int64"
      ]
     },
     "execution_count": 7,
     "metadata": {},
     "output_type": "execute_result"
    }
   ],
   "source": [
    "min_count = 6500\n",
    "role_counts = df['Role'].value_counts()\n",
    "dropped_classes = role_counts[role_counts < min_count].index\n",
    "filtered_df = df[~df['Role'].isin(dropped_classes)].reset_index(drop=True)\n",
    "\n",
    "#checking the updated model\n",
    "filtered_df['Role'].value_counts()"
   ]
  },
  {
   "cell_type": "code",
   "execution_count": 8,
   "id": "18daf3b4-82fd-44e1-9a53-cde4e8d2c9b8",
   "metadata": {},
   "outputs": [
    {
     "data": {
      "text/plain": [
       "61"
      ]
     },
     "execution_count": 8,
     "metadata": {},
     "output_type": "execute_result"
    }
   ],
   "source": [
    "len(filtered_df['Role'].value_counts())"
   ]
  },
  {
   "cell_type": "code",
   "execution_count": 9,
   "id": "423163f8-7fa5-4243-a772-6866bc81e4ac",
   "metadata": {},
   "outputs": [],
   "source": [
    "df = filtered_df.sample(n=10000)"
   ]
  },
  {
   "cell_type": "code",
   "execution_count": 10,
   "id": "442494b9-176f-4288-850b-642ffe17c308",
   "metadata": {},
   "outputs": [
    {
     "data": {
      "text/html": [
       "<div>\n",
       "<style scoped>\n",
       "    .dataframe tbody tr th:only-of-type {\n",
       "        vertical-align: middle;\n",
       "    }\n",
       "\n",
       "    .dataframe tbody tr th {\n",
       "        vertical-align: top;\n",
       "    }\n",
       "\n",
       "    .dataframe thead th {\n",
       "        text-align: right;\n",
       "    }\n",
       "</style>\n",
       "<table border=\"1\" class=\"dataframe\">\n",
       "  <thead>\n",
       "    <tr style=\"text-align: right;\">\n",
       "      <th></th>\n",
       "      <th>Role</th>\n",
       "      <th>Features</th>\n",
       "    </tr>\n",
       "  </thead>\n",
       "  <tbody>\n",
       "    <tr>\n",
       "      <th>432472</th>\n",
       "      <td>User Experience Designer</td>\n",
       "      <td>5 to 10 Years UX/UI Designer MCA User-centered...</td>\n",
       "    </tr>\n",
       "    <tr>\n",
       "      <th>421290</th>\n",
       "      <td>Procurement Analyst</td>\n",
       "      <td>0 to 11 Years Procurement Manager BBA Procurem...</td>\n",
       "    </tr>\n",
       "    <tr>\n",
       "      <th>434312</th>\n",
       "      <td>Product Marketing Manager</td>\n",
       "      <td>5 to 15 Years Marketing Manager BBA Product po...</td>\n",
       "    </tr>\n",
       "    <tr>\n",
       "      <th>48595</th>\n",
       "      <td>Benefits Coordinator</td>\n",
       "      <td>2 to 11 Years HR Coordinator PhD Employee bene...</td>\n",
       "    </tr>\n",
       "    <tr>\n",
       "      <th>338065</th>\n",
       "      <td>Customer Success Manager</td>\n",
       "      <td>4 to 12 Years Customer Support Specialist MCA ...</td>\n",
       "    </tr>\n",
       "  </tbody>\n",
       "</table>\n",
       "</div>"
      ],
      "text/plain": [
       "                             Role  \\\n",
       "432472   User Experience Designer   \n",
       "421290        Procurement Analyst   \n",
       "434312  Product Marketing Manager   \n",
       "48595        Benefits Coordinator   \n",
       "338065   Customer Success Manager   \n",
       "\n",
       "                                                 Features  \n",
       "432472  5 to 10 Years UX/UI Designer MCA User-centered...  \n",
       "421290  0 to 11 Years Procurement Manager BBA Procurem...  \n",
       "434312  5 to 15 Years Marketing Manager BBA Product po...  \n",
       "48595   2 to 11 Years HR Coordinator PhD Employee bene...  \n",
       "338065  4 to 12 Years Customer Support Specialist MCA ...  "
      ]
     },
     "execution_count": 10,
     "metadata": {},
     "output_type": "execute_result"
    }
   ],
   "source": [
    "df.head()"
   ]
  },
  {
   "cell_type": "markdown",
   "id": "725502fc-44f3-42a1-a55f-b2e8984486ef",
   "metadata": {},
   "source": [
    "TFIDF"
   ]
  },
  {
   "cell_type": "code",
   "execution_count": 11,
   "id": "3f296a7e-a298-4700-a9f9-2d3eb4b6d5cf",
   "metadata": {},
   "outputs": [],
   "source": [
    "from sklearn.model_selection import train_test_split\n",
    "from sklearn.feature_extraction.text import TfidfVectorizer\n",
    "from sklearn.ensemble import RandomForestClassifier\n",
    "from sklearn.metrics import accuracy_score\n",
    "\n",
    "# Splitting the data into features (X) and target (y)\n",
    "X = df['Features']\n",
    "y = df['Role']\n",
    "\n",
    "# Train-test split\n",
    "X_train, X_test, y_train, y_test = train_test_split(X, y, test_size=0.2, random_state=42)\n",
    "\n",
    "# TF-IDF vectorization\n",
    "tfidf_vectorizer = TfidfVectorizer()\n",
    "X_train_tfidf = tfidf_vectorizer.fit_transform(X_train)\n",
    "X_test_tfidf = tfidf_vectorizer.transform(X_test)"
   ]
  },
  {
   "cell_type": "code",
   "execution_count": 12,
   "id": "df37f31e-6681-4d3e-b4c4-dc715111496b",
   "metadata": {},
   "outputs": [
    {
     "name": "stdout",
     "output_type": "stream",
     "text": [
      "Accuracy: 1.0\n"
     ]
    }
   ],
   "source": [
    "# RandomForestClassifier\n",
    "rf_classifier = RandomForestClassifier()\n",
    "rf_classifier.fit(X_train_tfidf, y_train)\n",
    "\n",
    "# Predictions\n",
    "y_pred = rf_classifier.predict(X_test_tfidf)\n",
    "\n",
    "# Accuracy\n",
    "accuracy = accuracy_score(y_test, y_pred)\n",
    "print(\"Accuracy:\", accuracy)"
   ]
  },
  {
   "cell_type": "markdown",
   "id": "38403d25-6048-419c-990b-f9f5eeb42aed",
   "metadata": {},
   "source": [
    "Recommendation\n"
   ]
  },
  {
   "cell_type": "code",
   "execution_count": 13,
   "id": "39a72fe7-f891-4c24-aa0e-3a9ef3191449",
   "metadata": {},
   "outputs": [
    {
     "name": "stderr",
     "output_type": "stream",
     "text": [
      "<>:4: SyntaxWarning: invalid escape sequence '\\S'\n",
      "<>:6: SyntaxWarning: invalid escape sequence '\\S'\n",
      "<>:7: SyntaxWarning: invalid escape sequence '\\S'\n",
      "<>:8: SyntaxWarning: invalid escape sequence '\\]'\n",
      "<>:10: SyntaxWarning: invalid escape sequence '\\s'\n",
      "<>:4: SyntaxWarning: invalid escape sequence '\\S'\n",
      "<>:6: SyntaxWarning: invalid escape sequence '\\S'\n",
      "<>:7: SyntaxWarning: invalid escape sequence '\\S'\n",
      "<>:8: SyntaxWarning: invalid escape sequence '\\]'\n",
      "<>:10: SyntaxWarning: invalid escape sequence '\\s'\n",
      "C:\\Users\\User\\AppData\\Local\\Temp\\ipykernel_21184\\403501075.py:4: SyntaxWarning: invalid escape sequence '\\S'\n",
      "  cleanText = re.sub('http\\S+\\s', ' ', txt)\n",
      "C:\\Users\\User\\AppData\\Local\\Temp\\ipykernel_21184\\403501075.py:6: SyntaxWarning: invalid escape sequence '\\S'\n",
      "  cleanText = re.sub('#\\S+\\s', ' ', cleanText)\n",
      "C:\\Users\\User\\AppData\\Local\\Temp\\ipykernel_21184\\403501075.py:7: SyntaxWarning: invalid escape sequence '\\S'\n",
      "  cleanText = re.sub('@\\S+', '  ', cleanText)\n",
      "C:\\Users\\User\\AppData\\Local\\Temp\\ipykernel_21184\\403501075.py:8: SyntaxWarning: invalid escape sequence '\\]'\n",
      "  cleanText = re.sub('[%s]' % re.escape(\"\"\"!\"#$%&'()*+,-./:;<=>?@[\\]^_`{|}~\"\"\"), ' ', cleanText)\n",
      "C:\\Users\\User\\AppData\\Local\\Temp\\ipykernel_21184\\403501075.py:10: SyntaxWarning: invalid escape sequence '\\s'\n",
      "  cleanText = re.sub('\\s+', ' ', cleanText)\n"
     ]
    }
   ],
   "source": [
    "# Clean resume\n",
    "import re\n",
    "def cleanResume(txt):\n",
    "    cleanText = re.sub('http\\S+\\s', ' ', txt)\n",
    "    cleanText = re.sub('RT|cc', ' ', cleanText)\n",
    "    cleanText = re.sub('#\\S+\\s', ' ', cleanText)\n",
    "    cleanText = re.sub('@\\S+', '  ', cleanText)  \n",
    "    cleanText = re.sub('[%s]' % re.escape(\"\"\"!\"#$%&'()*+,-./:;<=>?@[\\]^_`{|}~\"\"\"), ' ', cleanText)\n",
    "    cleanText = re.sub(r'[^\\x00-\\x7f]', ' ', cleanText) \n",
    "    cleanText = re.sub('\\s+', ' ', cleanText)\n",
    "    return cleanText\n",
    "\n",
    "\n",
    "# Prediction and Category Name\n",
    "def job_recommendation(resume_text):\n",
    "    resume_text= cleanResume(resume_text)\n",
    "    resume_tfidf = tfidf_vectorizer.transform([resume_text])\n",
    "    predicted_category = rf_classifier.predict(resume_tfidf)[0]\n",
    "    return predicted_category"
   ]
  },
  {
   "cell_type": "code",
   "execution_count": 14,
   "id": "aa387ce1-d3dc-486a-a62d-8df6aa9a3fed",
   "metadata": {},
   "outputs": [],
   "source": [
    "import pickle\n",
    "pickle.dump(rf_classifier,open('rf_classifier_job_recommendation.pkl','wb'))\n",
    "pickle.dump(tfidf_vectorizer,open('tfidf_vectorizer_job_recommendation.pkl','wb'))"
   ]
  },
  {
   "cell_type": "code",
   "execution_count": null,
   "id": "3c46013e-1eb7-4d54-ba2f-c7c2e88a0bef",
   "metadata": {},
   "outputs": [],
   "source": []
  }
 ],
 "metadata": {
  "kernelspec": {
   "display_name": "Python 3",
   "language": "python",
   "name": "python3"
  },
  "language_info": {
   "codemirror_mode": {
    "name": "ipython",
    "version": 3
   },
   "file_extension": ".py",
   "mimetype": "text/x-python",
   "name": "python",
   "nbconvert_exporter": "python",
   "pygments_lexer": "ipython3",
   "version": "3.12.7"
  }
 },
 "nbformat": 4,
 "nbformat_minor": 5
}
